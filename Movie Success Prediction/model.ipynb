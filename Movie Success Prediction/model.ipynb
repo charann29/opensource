{
 "cells": [
  {
   "cell_type": "code",
   "execution_count": 27,
   "metadata": {},
   "outputs": [],
   "source": [
    "import pandas as pd\n",
    "import requests\n",
    "from sklearn.model_selection import train_test_split\n",
    "from sklearn.naive_bayes import GaussianNB\n",
    "from sklearn.preprocessing import LabelEncoder\n",
    "from sklearn.linear_model import LogisticRegression\n",
    "from sklearn.svm import SVC\n",
    "from sklearn.ensemble import RandomForestClassifier, GradientBoostingClassifier\n",
    "from sklearn.metrics import accuracy_score, classification_report, confusion_matrix\n",
    "import pickle"
   ]
  },
  {
   "cell_type": "code",
   "execution_count": 28,
   "metadata": {},
   "outputs": [],
   "source": [
    "api_endpoint = \"https://api.themoviedb.org/3/discover/movie\"\n",
    "api_key = \"c3b87632de85fe1569bd0b15603df2cc\""
   ]
  },
  {
   "cell_type": "code",
   "execution_count": 29,
   "metadata": {},
   "outputs": [],
   "source": [
    "params = {\n",
    "    \"api_key\": api_key,\n",
    "    \"language\": \"en-US\",\n",
    "    \"sort_by\": \"popularity.desc\",\n",
    "    \"include_adult\": \"false\",\n",
    "    \"include_video\": \"false\",\n",
    "    \"page\": 1\n",
    "}\n"
   ]
  },
  {
   "cell_type": "code",
   "execution_count": 30,
   "metadata": {},
   "outputs": [],
   "source": [
    "\n",
    "response = requests.get(api_endpoint, params=params)\n",
    "movies_data = response.json()\n"
   ]
  },
  {
   "cell_type": "code",
   "execution_count": 31,
   "metadata": {},
   "outputs": [],
   "source": [
    "movies_list = movies_data.get('results', [])"
   ]
  },
  {
   "cell_type": "code",
   "execution_count": 32,
   "metadata": {},
   "outputs": [],
   "source": [
    "movies_df = pd.DataFrame(movies_list)"
   ]
  },
  {
   "cell_type": "code",
   "execution_count": 33,
   "metadata": {},
   "outputs": [
    {
     "name": "stdout",
     "output_type": "stream",
     "text": [
      "   adult                     backdrop_path                genre_ids       id  \\\n",
      "0  False  /xg27NrXi7VXCGUr7MG75UqLl6Vg.jpg  [16, 10751, 18, 12, 35]  1022789   \n",
      "1  False  /fqv8v6AycXKsivp1T5yKtLbGXce.jpg            [878, 12, 28]   653346   \n",
      "2  False  /j29ekbcLpBvxnGk6LjdTc2EI5SA.jpg  [16, 10751, 12, 18, 35]   150540   \n",
      "3  False  /iTWrsOVsUqcwYSxrpINNs3hG2nC.jpg       [53, 27, 28, 9648]  1001311   \n",
      "4  False  /gRApXuxWmO2forYTuTmcz5RaNUV.jpg         [28, 80, 53, 35]   573435   \n",
      "\n",
      "  original_language                     original_title  \\\n",
      "0                en                       Inside Out 2   \n",
      "1                en  Kingdom of the Planet of the Apes   \n",
      "2                en                         Inside Out   \n",
      "3                fr                      Sous la Seine   \n",
      "4                en              Bad Boys: Ride or Die   \n",
      "\n",
      "                                            overview  popularity  \\\n",
      "0  Teenager Riley's mind headquarters is undergoi...    8445.266   \n",
      "1  Several generations in the future following Ca...    3069.128   \n",
      "2  From an adventurous balloon ride above the clo...    2381.980   \n",
      "3  In the Summer of 2024, Paris is hosting the Wo...    2187.027   \n",
      "4  After their late former Captain is framed, Low...    2057.749   \n",
      "\n",
      "                        poster_path release_date  \\\n",
      "0  /vpnVM9B6NMmQpWeZvzLvDESb2QY.jpg   2024-06-11   \n",
      "1  /gKkl37BQuKTanygYQG1pyYgLVgf.jpg   2024-05-08   \n",
      "2  /2H1TmgdfNtsKlU9jKdeNyYL5y8T.jpg   2015-06-17   \n",
      "3  /qZPLK5ktRKa3CL4sKRZtj8UlPYc.jpg   2024-06-05   \n",
      "4  /nP6RliHjxsz4irTKsxe8FRhKZYl.jpg   2024-06-05   \n",
      "\n",
      "                               title  video  vote_average  vote_count  \n",
      "0                       Inside Out 2  False         7.916         356  \n",
      "1  Kingdom of the Planet of the Apes  False         6.854        1128  \n",
      "2                         Inside Out  False         7.917       20665  \n",
      "3                        Under Paris  False         5.976         595  \n",
      "4              Bad Boys: Ride or Die  False         7.142         338  \n"
     ]
    }
   ],
   "source": [
    "print(movies_df.head())"
   ]
  },
  {
   "cell_type": "code",
   "execution_count": 34,
   "metadata": {},
   "outputs": [],
   "source": [
    "movies_df = movies_df.dropna(subset=['genre_ids', 'vote_average', 'popularity'])\n"
   ]
  },
  {
   "cell_type": "code",
   "execution_count": 35,
   "metadata": {},
   "outputs": [],
   "source": [
    "movies_df['genre'] = movies_df['genre_ids'].apply(lambda x: x[0] if isinstance(x, list) and len(x) > 0 else None)"
   ]
  },
  {
   "cell_type": "code",
   "execution_count": 36,
   "metadata": {},
   "outputs": [],
   "source": [
    "movies_df = movies_df.dropna(subset=['genre'])"
   ]
  },
  {
   "cell_type": "code",
   "execution_count": 37,
   "metadata": {},
   "outputs": [],
   "source": [
    "\n",
    "label_encoder = LabelEncoder()\n",
    "movies_df['genre_encoded'] = label_encoder.fit_transform(movies_df['genre'])"
   ]
  },
  {
   "cell_type": "code",
   "execution_count": 38,
   "metadata": {},
   "outputs": [],
   "source": [
    "\n",
    "movies_df['success'] = movies_df['vote_average'] >= 7\n",
    "X = movies_df[['vote_average', 'genre_encoded']]\n",
    "y = movies_df['success']"
   ]
  },
  {
   "cell_type": "code",
   "execution_count": 39,
   "metadata": {},
   "outputs": [],
   "source": [
    "X_train, X_test, y_train, y_test = train_test_split(X, y, test_size=0.2, random_state=42)"
   ]
  },
  {
   "cell_type": "code",
   "execution_count": 40,
   "metadata": {},
   "outputs": [
    {
     "name": "stdout",
     "output_type": "stream",
     "text": [
      "Naive Bayes Accuracy: 0.75\n",
      "Naive Bayes Report:\n",
      "              precision    recall  f1-score   support\n",
      "\n",
      "       False       0.00      0.00      0.00         1\n",
      "        True       0.75      1.00      0.86         3\n",
      "\n",
      "    accuracy                           0.75         4\n",
      "   macro avg       0.38      0.50      0.43         4\n",
      "weighted avg       0.56      0.75      0.64         4\n",
      "\n",
      "Naive Bayes Confusion Matrix:\n",
      "[[0 1]\n",
      " [0 3]]\n"
     ]
    },
    {
     "name": "stderr",
     "output_type": "stream",
     "text": [
      "/Library/Frameworks/Python.framework/Versions/3.12/lib/python3.12/site-packages/sklearn/metrics/_classification.py:1517: UndefinedMetricWarning: Precision is ill-defined and being set to 0.0 in labels with no predicted samples. Use `zero_division` parameter to control this behavior.\n",
      "  _warn_prf(average, modifier, f\"{metric.capitalize()} is\", len(result))\n",
      "/Library/Frameworks/Python.framework/Versions/3.12/lib/python3.12/site-packages/sklearn/metrics/_classification.py:1517: UndefinedMetricWarning: Precision is ill-defined and being set to 0.0 in labels with no predicted samples. Use `zero_division` parameter to control this behavior.\n",
      "  _warn_prf(average, modifier, f\"{metric.capitalize()} is\", len(result))\n",
      "/Library/Frameworks/Python.framework/Versions/3.12/lib/python3.12/site-packages/sklearn/metrics/_classification.py:1517: UndefinedMetricWarning: Precision is ill-defined and being set to 0.0 in labels with no predicted samples. Use `zero_division` parameter to control this behavior.\n",
      "  _warn_prf(average, modifier, f\"{metric.capitalize()} is\", len(result))\n"
     ]
    }
   ],
   "source": [
    "nb_model = GaussianNB()\n",
    "nb_model.fit(X_train, y_train)\n",
    "nb_y_pred = nb_model.predict(X_test)\n",
    "\n",
    "nb_accuracy = accuracy_score(y_test, nb_y_pred)\n",
    "nb_report = classification_report(y_test, nb_y_pred)\n",
    "nb_conf_matrix = confusion_matrix(y_test, nb_y_pred)\n",
    "\n",
    "print(f'Naive Bayes Accuracy: {nb_accuracy}')\n",
    "print(f'Naive Bayes Report:\\n{nb_report}')\n",
    "print(f'Naive Bayes Confusion Matrix:\\n{nb_conf_matrix}')"
   ]
  },
  {
   "cell_type": "code",
   "execution_count": 41,
   "metadata": {},
   "outputs": [],
   "source": [
    "with open('nb_model.pkl', 'wb') as file:\n",
    "    pickle.dump(nb_model, file)"
   ]
  },
  {
   "cell_type": "code",
   "execution_count": 42,
   "metadata": {},
   "outputs": [
    {
     "name": "stdout",
     "output_type": "stream",
     "text": [
      "Logistic Regression Accuracy: 0.75\n",
      "Logistic Regression Report:\n",
      "              precision    recall  f1-score   support\n",
      "\n",
      "       False       0.00      0.00      0.00         1\n",
      "        True       0.75      1.00      0.86         3\n",
      "\n",
      "    accuracy                           0.75         4\n",
      "   macro avg       0.38      0.50      0.43         4\n",
      "weighted avg       0.56      0.75      0.64         4\n",
      "\n",
      "Logistic Regression Confusion Matrix:\n",
      "[[0 1]\n",
      " [0 3]]\n"
     ]
    },
    {
     "name": "stderr",
     "output_type": "stream",
     "text": [
      "/Library/Frameworks/Python.framework/Versions/3.12/lib/python3.12/site-packages/sklearn/metrics/_classification.py:1517: UndefinedMetricWarning: Precision is ill-defined and being set to 0.0 in labels with no predicted samples. Use `zero_division` parameter to control this behavior.\n",
      "  _warn_prf(average, modifier, f\"{metric.capitalize()} is\", len(result))\n",
      "/Library/Frameworks/Python.framework/Versions/3.12/lib/python3.12/site-packages/sklearn/metrics/_classification.py:1517: UndefinedMetricWarning: Precision is ill-defined and being set to 0.0 in labels with no predicted samples. Use `zero_division` parameter to control this behavior.\n",
      "  _warn_prf(average, modifier, f\"{metric.capitalize()} is\", len(result))\n",
      "/Library/Frameworks/Python.framework/Versions/3.12/lib/python3.12/site-packages/sklearn/metrics/_classification.py:1517: UndefinedMetricWarning: Precision is ill-defined and being set to 0.0 in labels with no predicted samples. Use `zero_division` parameter to control this behavior.\n",
      "  _warn_prf(average, modifier, f\"{metric.capitalize()} is\", len(result))\n"
     ]
    }
   ],
   "source": [
    "lr_model = LogisticRegression(max_iter=1000)\n",
    "lr_model.fit(X_train, y_train)\n",
    "lr_y_pred = lr_model.predict(X_test)\n",
    "\n",
    "lr_accuracy = accuracy_score(y_test, lr_y_pred)\n",
    "lr_report = classification_report(y_test, lr_y_pred)\n",
    "lr_conf_matrix = confusion_matrix(y_test, lr_y_pred)\n",
    "\n",
    "print(f'Logistic Regression Accuracy: {lr_accuracy}')\n",
    "print(f'Logistic Regression Report:\\n{lr_report}')\n",
    "print(f'Logistic Regression Confusion Matrix:\\n{lr_conf_matrix}')"
   ]
  },
  {
   "cell_type": "code",
   "execution_count": 43,
   "metadata": {},
   "outputs": [],
   "source": [
    "with open('lr_model.pkl', 'wb') as file:\n",
    "    pickle.dump(lr_model, file)\n"
   ]
  },
  {
   "cell_type": "code",
   "execution_count": 44,
   "metadata": {},
   "outputs": [
    {
     "name": "stdout",
     "output_type": "stream",
     "text": [
      "SVM Accuracy: 0.75\n",
      "SVM Report:\n",
      "              precision    recall  f1-score   support\n",
      "\n",
      "       False       0.00      0.00      0.00         1\n",
      "        True       0.75      1.00      0.86         3\n",
      "\n",
      "    accuracy                           0.75         4\n",
      "   macro avg       0.38      0.50      0.43         4\n",
      "weighted avg       0.56      0.75      0.64         4\n",
      "\n",
      "SVM Confusion Matrix:\n",
      "[[0 1]\n",
      " [0 3]]\n"
     ]
    },
    {
     "name": "stderr",
     "output_type": "stream",
     "text": [
      "/Library/Frameworks/Python.framework/Versions/3.12/lib/python3.12/site-packages/sklearn/metrics/_classification.py:1517: UndefinedMetricWarning: Precision is ill-defined and being set to 0.0 in labels with no predicted samples. Use `zero_division` parameter to control this behavior.\n",
      "  _warn_prf(average, modifier, f\"{metric.capitalize()} is\", len(result))\n",
      "/Library/Frameworks/Python.framework/Versions/3.12/lib/python3.12/site-packages/sklearn/metrics/_classification.py:1517: UndefinedMetricWarning: Precision is ill-defined and being set to 0.0 in labels with no predicted samples. Use `zero_division` parameter to control this behavior.\n",
      "  _warn_prf(average, modifier, f\"{metric.capitalize()} is\", len(result))\n",
      "/Library/Frameworks/Python.framework/Versions/3.12/lib/python3.12/site-packages/sklearn/metrics/_classification.py:1517: UndefinedMetricWarning: Precision is ill-defined and being set to 0.0 in labels with no predicted samples. Use `zero_division` parameter to control this behavior.\n",
      "  _warn_prf(average, modifier, f\"{metric.capitalize()} is\", len(result))\n"
     ]
    }
   ],
   "source": [
    "svm_model = SVC()\n",
    "svm_model.fit(X_train, y_train)\n",
    "svm_y_pred = svm_model.predict(X_test)\n",
    "\n",
    "svm_accuracy = accuracy_score(y_test, svm_y_pred)\n",
    "svm_report = classification_report(y_test, svm_y_pred)\n",
    "svm_conf_matrix = confusion_matrix(y_test, svm_y_pred)\n",
    "\n",
    "print(f'SVM Accuracy: {svm_accuracy}')\n",
    "print(f'SVM Report:\\n{svm_report}')\n",
    "print(f'SVM Confusion Matrix:\\n{svm_conf_matrix}')\n"
   ]
  },
  {
   "cell_type": "code",
   "execution_count": 45,
   "metadata": {},
   "outputs": [],
   "source": [
    "with open('svm_model.pkl', 'wb') as file:\n",
    "    pickle.dump(svm_model, file)"
   ]
  },
  {
   "cell_type": "code",
   "execution_count": 46,
   "metadata": {},
   "outputs": [],
   "source": [
    "with open('label_encoder.pkl', 'wb') as file:\n",
    "    pickle.dump(label_encoder, file)"
   ]
  },
  {
   "cell_type": "code",
   "execution_count": null,
   "metadata": {},
   "outputs": [],
   "source": []
  }
 ],
 "metadata": {
  "kernelspec": {
   "display_name": "Python 3",
   "language": "python",
   "name": "python3"
  },
  "language_info": {
   "codemirror_mode": {
    "name": "ipython",
    "version": 3
   },
   "file_extension": ".py",
   "mimetype": "text/x-python",
   "name": "python",
   "nbconvert_exporter": "python",
   "pygments_lexer": "ipython3",
   "version": "3.12.0"
  }
 },
 "nbformat": 4,
 "nbformat_minor": 2
}
