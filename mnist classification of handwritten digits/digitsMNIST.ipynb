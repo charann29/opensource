{
  "nbformat": 4,
  "nbformat_minor": 0,
  "metadata": {
    "colab": {
      "name": "digitsMNIST.ipynb",
      "provenance": [],
      "collapsed_sections": [],
      "toc_visible": true
    },
    "kernelspec": {
      "name": "python3",
      "display_name": "Python 3"
    },
    "accelerator": "GPU",
    "widgets": {
      "application/vnd.jupyter.widget-state+json": {
        "ab7309e2797343f29d779efe01046914": {
          "model_module": "@jupyter-widgets/controls",
          "model_name": "HBoxModel",
          "state": {
            "_view_name": "HBoxView",
            "_dom_classes": [],
            "_model_name": "HBoxModel",
            "_view_module": "@jupyter-widgets/controls",
            "_model_module_version": "1.5.0",
            "_view_count": null,
            "_view_module_version": "1.5.0",
            "box_style": "",
            "layout": "IPY_MODEL_c52ddc49794247a4ba16953ae296a172",
            "_model_module": "@jupyter-widgets/controls",
            "children": [
              "IPY_MODEL_e50b4dd2b7b1493d8b40716651939bc2",
              "IPY_MODEL_d9e10a1a98db4338931c72967db0d806"
            ]
          }
        },
        "c52ddc49794247a4ba16953ae296a172": {
          "model_module": "@jupyter-widgets/base",
          "model_name": "LayoutModel",
          "state": {
            "_view_name": "LayoutView",
            "grid_template_rows": null,
            "right": null,
            "justify_content": null,
            "_view_module": "@jupyter-widgets/base",
            "overflow": null,
            "_model_module_version": "1.2.0",
            "_view_count": null,
            "flex_flow": null,
            "width": null,
            "min_width": null,
            "border": null,
            "align_items": null,
            "bottom": null,
            "_model_module": "@jupyter-widgets/base",
            "top": null,
            "grid_column": null,
            "overflow_y": null,
            "overflow_x": null,
            "grid_auto_flow": null,
            "grid_area": null,
            "grid_template_columns": null,
            "flex": null,
            "_model_name": "LayoutModel",
            "justify_items": null,
            "grid_row": null,
            "max_height": null,
            "align_content": null,
            "visibility": null,
            "align_self": null,
            "height": null,
            "min_height": null,
            "padding": null,
            "grid_auto_rows": null,
            "grid_gap": null,
            "max_width": null,
            "order": null,
            "_view_module_version": "1.2.0",
            "grid_template_areas": null,
            "object_position": null,
            "object_fit": null,
            "grid_auto_columns": null,
            "margin": null,
            "display": null,
            "left": null
          }
        },
        "e50b4dd2b7b1493d8b40716651939bc2": {
          "model_module": "@jupyter-widgets/controls",
          "model_name": "FloatProgressModel",
          "state": {
            "_view_name": "ProgressView",
            "style": "IPY_MODEL_b2ad8531d80d4d049c5dc6fee7420dc0",
            "_dom_classes": [],
            "description": "",
            "_model_name": "FloatProgressModel",
            "bar_style": "info",
            "max": 1,
            "_view_module": "@jupyter-widgets/controls",
            "_model_module_version": "1.5.0",
            "value": 1,
            "_view_count": null,
            "_view_module_version": "1.5.0",
            "orientation": "horizontal",
            "min": 0,
            "description_tooltip": null,
            "_model_module": "@jupyter-widgets/controls",
            "layout": "IPY_MODEL_30029164616943e29190578a18dee0cb"
          }
        },
        "d9e10a1a98db4338931c72967db0d806": {
          "model_module": "@jupyter-widgets/controls",
          "model_name": "HTMLModel",
          "state": {
            "_view_name": "HTMLView",
            "style": "IPY_MODEL_9577e4eb6ab6466f9b76d3bdac9605fc",
            "_dom_classes": [],
            "description": "",
            "_model_name": "HTMLModel",
            "placeholder": "​",
            "_view_module": "@jupyter-widgets/controls",
            "_model_module_version": "1.5.0",
            "value": " 9920512/? [00:20&lt;00:00, 1281129.61it/s]",
            "_view_count": null,
            "_view_module_version": "1.5.0",
            "description_tooltip": null,
            "_model_module": "@jupyter-widgets/controls",
            "layout": "IPY_MODEL_5bb17c6dcd0e428ca787b758a0eff7c3"
          }
        },
        "b2ad8531d80d4d049c5dc6fee7420dc0": {
          "model_module": "@jupyter-widgets/controls",
          "model_name": "ProgressStyleModel",
          "state": {
            "_view_name": "StyleView",
            "_model_name": "ProgressStyleModel",
            "description_width": "initial",
            "_view_module": "@jupyter-widgets/base",
            "_model_module_version": "1.5.0",
            "_view_count": null,
            "_view_module_version": "1.2.0",
            "bar_color": null,
            "_model_module": "@jupyter-widgets/controls"
          }
        },
        "30029164616943e29190578a18dee0cb": {
          "model_module": "@jupyter-widgets/base",
          "model_name": "LayoutModel",
          "state": {
            "_view_name": "LayoutView",
            "grid_template_rows": null,
            "right": null,
            "justify_content": null,
            "_view_module": "@jupyter-widgets/base",
            "overflow": null,
            "_model_module_version": "1.2.0",
            "_view_count": null,
            "flex_flow": null,
            "width": null,
            "min_width": null,
            "border": null,
            "align_items": null,
            "bottom": null,
            "_model_module": "@jupyter-widgets/base",
            "top": null,
            "grid_column": null,
            "overflow_y": null,
            "overflow_x": null,
            "grid_auto_flow": null,
            "grid_area": null,
            "grid_template_columns": null,
            "flex": null,
            "_model_name": "LayoutModel",
            "justify_items": null,
            "grid_row": null,
            "max_height": null,
            "align_content": null,
            "visibility": null,
            "align_self": null,
            "height": null,
            "min_height": null,
            "padding": null,
            "grid_auto_rows": null,
            "grid_gap": null,
            "max_width": null,
            "order": null,
            "_view_module_version": "1.2.0",
            "grid_template_areas": null,
            "object_position": null,
            "object_fit": null,
            "grid_auto_columns": null,
            "margin": null,
            "display": null,
            "left": null
          }
        },
        "9577e4eb6ab6466f9b76d3bdac9605fc": {
          "model_module": "@jupyter-widgets/controls",
          "model_name": "DescriptionStyleModel",
          "state": {
            "_view_name": "StyleView",
            "_model_name": "DescriptionStyleModel",
            "description_width": "",
            "_view_module": "@jupyter-widgets/base",
            "_model_module_version": "1.5.0",
            "_view_count": null,
            "_view_module_version": "1.2.0",
            "_model_module": "@jupyter-widgets/controls"
          }
        },
        "5bb17c6dcd0e428ca787b758a0eff7c3": {
          "model_module": "@jupyter-widgets/base",
          "model_name": "LayoutModel",
          "state": {
            "_view_name": "LayoutView",
            "grid_template_rows": null,
            "right": null,
            "justify_content": null,
            "_view_module": "@jupyter-widgets/base",
            "overflow": null,
            "_model_module_version": "1.2.0",
            "_view_count": null,
            "flex_flow": null,
            "width": null,
            "min_width": null,
            "border": null,
            "align_items": null,
            "bottom": null,
            "_model_module": "@jupyter-widgets/base",
            "top": null,
            "grid_column": null,
            "overflow_y": null,
            "overflow_x": null,
            "grid_auto_flow": null,
            "grid_area": null,
            "grid_template_columns": null,
            "flex": null,
            "_model_name": "LayoutModel",
            "justify_items": null,
            "grid_row": null,
            "max_height": null,
            "align_content": null,
            "visibility": null,
            "align_self": null,
            "height": null,
            "min_height": null,
            "padding": null,
            "grid_auto_rows": null,
            "grid_gap": null,
            "max_width": null,
            "order": null,
            "_view_module_version": "1.2.0",
            "grid_template_areas": null,
            "object_position": null,
            "object_fit": null,
            "grid_auto_columns": null,
            "margin": null,
            "display": null,
            "left": null
          }
        },
        "aa82d23b733f4d6887bf77d625a8c9e2": {
          "model_module": "@jupyter-widgets/controls",
          "model_name": "HBoxModel",
          "state": {
            "_view_name": "HBoxView",
            "_dom_classes": [],
            "_model_name": "HBoxModel",
            "_view_module": "@jupyter-widgets/controls",
            "_model_module_version": "1.5.0",
            "_view_count": null,
            "_view_module_version": "1.5.0",
            "box_style": "",
            "layout": "IPY_MODEL_10891cff8668436388335c8a94abd4bb",
            "_model_module": "@jupyter-widgets/controls",
            "children": [
              "IPY_MODEL_ce1aa022e43b4a72842f98ba739c6e45",
              "IPY_MODEL_847bc4c94f9c4fdb81d42cfb6d2c30e2"
            ]
          }
        },
        "10891cff8668436388335c8a94abd4bb": {
          "model_module": "@jupyter-widgets/base",
          "model_name": "LayoutModel",
          "state": {
            "_view_name": "LayoutView",
            "grid_template_rows": null,
            "right": null,
            "justify_content": null,
            "_view_module": "@jupyter-widgets/base",
            "overflow": null,
            "_model_module_version": "1.2.0",
            "_view_count": null,
            "flex_flow": null,
            "width": null,
            "min_width": null,
            "border": null,
            "align_items": null,
            "bottom": null,
            "_model_module": "@jupyter-widgets/base",
            "top": null,
            "grid_column": null,
            "overflow_y": null,
            "overflow_x": null,
            "grid_auto_flow": null,
            "grid_area": null,
            "grid_template_columns": null,
            "flex": null,
            "_model_name": "LayoutModel",
            "justify_items": null,
            "grid_row": null,
            "max_height": null,
            "align_content": null,
            "visibility": null,
            "align_self": null,
            "height": null,
            "min_height": null,
            "padding": null,
            "grid_auto_rows": null,
            "grid_gap": null,
            "max_width": null,
            "order": null,
            "_view_module_version": "1.2.0",
            "grid_template_areas": null,
            "object_position": null,
            "object_fit": null,
            "grid_auto_columns": null,
            "margin": null,
            "display": null,
            "left": null
          }
        },
        "ce1aa022e43b4a72842f98ba739c6e45": {
          "model_module": "@jupyter-widgets/controls",
          "model_name": "FloatProgressModel",
          "state": {
            "_view_name": "ProgressView",
            "style": "IPY_MODEL_ad9c72eb00b649c9897bd22314b062a6",
            "_dom_classes": [],
            "description": "",
            "_model_name": "FloatProgressModel",
            "bar_style": "success",
            "max": 1,
            "_view_module": "@jupyter-widgets/controls",
            "_model_module_version": "1.5.0",
            "value": 1,
            "_view_count": null,
            "_view_module_version": "1.5.0",
            "orientation": "horizontal",
            "min": 0,
            "description_tooltip": null,
            "_model_module": "@jupyter-widgets/controls",
            "layout": "IPY_MODEL_2601fa239149486fb8a39554312b1c0a"
          }
        },
        "847bc4c94f9c4fdb81d42cfb6d2c30e2": {
          "model_module": "@jupyter-widgets/controls",
          "model_name": "HTMLModel",
          "state": {
            "_view_name": "HTMLView",
            "style": "IPY_MODEL_2e5cf88e9f8e44fe9fe7811b6ed3db3e",
            "_dom_classes": [],
            "description": "",
            "_model_name": "HTMLModel",
            "placeholder": "​",
            "_view_module": "@jupyter-widgets/controls",
            "_model_module_version": "1.5.0",
            "value": " 32768/? [00:00&lt;00:00, 40205.30it/s]",
            "_view_count": null,
            "_view_module_version": "1.5.0",
            "description_tooltip": null,
            "_model_module": "@jupyter-widgets/controls",
            "layout": "IPY_MODEL_642b1057167e467e93894de6c023cdc4"
          }
        },
        "ad9c72eb00b649c9897bd22314b062a6": {
          "model_module": "@jupyter-widgets/controls",
          "model_name": "ProgressStyleModel",
          "state": {
            "_view_name": "StyleView",
            "_model_name": "ProgressStyleModel",
            "description_width": "initial",
            "_view_module": "@jupyter-widgets/base",
            "_model_module_version": "1.5.0",
            "_view_count": null,
            "_view_module_version": "1.2.0",
            "bar_color": null,
            "_model_module": "@jupyter-widgets/controls"
          }
        },
        "2601fa239149486fb8a39554312b1c0a": {
          "model_module": "@jupyter-widgets/base",
          "model_name": "LayoutModel",
          "state": {
            "_view_name": "LayoutView",
            "grid_template_rows": null,
            "right": null,
            "justify_content": null,
            "_view_module": "@jupyter-widgets/base",
            "overflow": null,
            "_model_module_version": "1.2.0",
            "_view_count": null,
            "flex_flow": null,
            "width": null,
            "min_width": null,
            "border": null,
            "align_items": null,
            "bottom": null,
            "_model_module": "@jupyter-widgets/base",
            "top": null,
            "grid_column": null,
            "overflow_y": null,
            "overflow_x": null,
            "grid_auto_flow": null,
            "grid_area": null,
            "grid_template_columns": null,
            "flex": null,
            "_model_name": "LayoutModel",
            "justify_items": null,
            "grid_row": null,
            "max_height": null,
            "align_content": null,
            "visibility": null,
            "align_self": null,
            "height": null,
            "min_height": null,
            "padding": null,
            "grid_auto_rows": null,
            "grid_gap": null,
            "max_width": null,
            "order": null,
            "_view_module_version": "1.2.0",
            "grid_template_areas": null,
            "object_position": null,
            "object_fit": null,
            "grid_auto_columns": null,
            "margin": null,
            "display": null,
            "left": null
          }
        },
        "2e5cf88e9f8e44fe9fe7811b6ed3db3e": {
          "model_module": "@jupyter-widgets/controls",
          "model_name": "DescriptionStyleModel",
          "state": {
            "_view_name": "StyleView",
            "_model_name": "DescriptionStyleModel",
            "description_width": "",
            "_view_module": "@jupyter-widgets/base",
            "_model_module_version": "1.5.0",
            "_view_count": null,
            "_view_module_version": "1.2.0",
            "_model_module": "@jupyter-widgets/controls"
          }
        },
        "642b1057167e467e93894de6c023cdc4": {
          "model_module": "@jupyter-widgets/base",
          "model_name": "LayoutModel",
          "state": {
            "_view_name": "LayoutView",
            "grid_template_rows": null,
            "right": null,
            "justify_content": null,
            "_view_module": "@jupyter-widgets/base",
            "overflow": null,
            "_model_module_version": "1.2.0",
            "_view_count": null,
            "flex_flow": null,
            "width": null,
            "min_width": null,
            "border": null,
            "align_items": null,
            "bottom": null,
            "_model_module": "@jupyter-widgets/base",
            "top": null,
            "grid_column": null,
            "overflow_y": null,
            "overflow_x": null,
            "grid_auto_flow": null,
            "grid_area": null,
            "grid_template_columns": null,
            "flex": null,
            "_model_name": "LayoutModel",
            "justify_items": null,
            "grid_row": null,
            "max_height": null,
            "align_content": null,
            "visibility": null,
            "align_self": null,
            "height": null,
            "min_height": null,
            "padding": null,
            "grid_auto_rows": null,
            "grid_gap": null,
            "max_width": null,
            "order": null,
            "_view_module_version": "1.2.0",
            "grid_template_areas": null,
            "object_position": null,
            "object_fit": null,
            "grid_auto_columns": null,
            "margin": null,
            "display": null,
            "left": null
          }
        },
        "0ab84dc2513943ccab58d09f4ceb9463": {
          "model_module": "@jupyter-widgets/controls",
          "model_name": "HBoxModel",
          "state": {
            "_view_name": "HBoxView",
            "_dom_classes": [],
            "_model_name": "HBoxModel",
            "_view_module": "@jupyter-widgets/controls",
            "_model_module_version": "1.5.0",
            "_view_count": null,
            "_view_module_version": "1.5.0",
            "box_style": "",
            "layout": "IPY_MODEL_20df32632996421e83f8f6e7673149fd",
            "_model_module": "@jupyter-widgets/controls",
            "children": [
              "IPY_MODEL_0cb140d3944443faa04047d580e5182a",
              "IPY_MODEL_cc1e83f2af594ed1b6849439082752de"
            ]
          }
        },
        "20df32632996421e83f8f6e7673149fd": {
          "model_module": "@jupyter-widgets/base",
          "model_name": "LayoutModel",
          "state": {
            "_view_name": "LayoutView",
            "grid_template_rows": null,
            "right": null,
            "justify_content": null,
            "_view_module": "@jupyter-widgets/base",
            "overflow": null,
            "_model_module_version": "1.2.0",
            "_view_count": null,
            "flex_flow": null,
            "width": null,
            "min_width": null,
            "border": null,
            "align_items": null,
            "bottom": null,
            "_model_module": "@jupyter-widgets/base",
            "top": null,
            "grid_column": null,
            "overflow_y": null,
            "overflow_x": null,
            "grid_auto_flow": null,
            "grid_area": null,
            "grid_template_columns": null,
            "flex": null,
            "_model_name": "LayoutModel",
            "justify_items": null,
            "grid_row": null,
            "max_height": null,
            "align_content": null,
            "visibility": null,
            "align_self": null,
            "height": null,
            "min_height": null,
            "padding": null,
            "grid_auto_rows": null,
            "grid_gap": null,
            "max_width": null,
            "order": null,
            "_view_module_version": "1.2.0",
            "grid_template_areas": null,
            "object_position": null,
            "object_fit": null,
            "grid_auto_columns": null,
            "margin": null,
            "display": null,
            "left": null
          }
        },
        "0cb140d3944443faa04047d580e5182a": {
          "model_module": "@jupyter-widgets/controls",
          "model_name": "FloatProgressModel",
          "state": {
            "_view_name": "ProgressView",
            "style": "IPY_MODEL_e79e2166e3c24fb7afe8809df7f08c8a",
            "_dom_classes": [],
            "description": "",
            "_model_name": "FloatProgressModel",
            "bar_style": "success",
            "max": 1,
            "_view_module": "@jupyter-widgets/controls",
            "_model_module_version": "1.5.0",
            "value": 1,
            "_view_count": null,
            "_view_module_version": "1.5.0",
            "orientation": "horizontal",
            "min": 0,
            "description_tooltip": null,
            "_model_module": "@jupyter-widgets/controls",
            "layout": "IPY_MODEL_db93e628b5f14172b6de93a165d3eeee"
          }
        },
        "cc1e83f2af594ed1b6849439082752de": {
          "model_module": "@jupyter-widgets/controls",
          "model_name": "HTMLModel",
          "state": {
            "_view_name": "HTMLView",
            "style": "IPY_MODEL_776eae11aeeb45ae97ed29bcbbd411e4",
            "_dom_classes": [],
            "description": "",
            "_model_name": "HTMLModel",
            "placeholder": "​",
            "_view_module": "@jupyter-widgets/controls",
            "_model_module_version": "1.5.0",
            "value": " 1654784/? [00:02&lt;00:00, 566330.16it/s]",
            "_view_count": null,
            "_view_module_version": "1.5.0",
            "description_tooltip": null,
            "_model_module": "@jupyter-widgets/controls",
            "layout": "IPY_MODEL_9075f30e24a94aca9fca83d1e79aae3d"
          }
        },
        "e79e2166e3c24fb7afe8809df7f08c8a": {
          "model_module": "@jupyter-widgets/controls",
          "model_name": "ProgressStyleModel",
          "state": {
            "_view_name": "StyleView",
            "_model_name": "ProgressStyleModel",
            "description_width": "initial",
            "_view_module": "@jupyter-widgets/base",
            "_model_module_version": "1.5.0",
            "_view_count": null,
            "_view_module_version": "1.2.0",
            "bar_color": null,
            "_model_module": "@jupyter-widgets/controls"
          }
        },
        "db93e628b5f14172b6de93a165d3eeee": {
          "model_module": "@jupyter-widgets/base",
          "model_name": "LayoutModel",
          "state": {
            "_view_name": "LayoutView",
            "grid_template_rows": null,
            "right": null,
            "justify_content": null,
            "_view_module": "@jupyter-widgets/base",
            "overflow": null,
            "_model_module_version": "1.2.0",
            "_view_count": null,
            "flex_flow": null,
            "width": null,
            "min_width": null,
            "border": null,
            "align_items": null,
            "bottom": null,
            "_model_module": "@jupyter-widgets/base",
            "top": null,
            "grid_column": null,
            "overflow_y": null,
            "overflow_x": null,
            "grid_auto_flow": null,
            "grid_area": null,
            "grid_template_columns": null,
            "flex": null,
            "_model_name": "LayoutModel",
            "justify_items": null,
            "grid_row": null,
            "max_height": null,
            "align_content": null,
            "visibility": null,
            "align_self": null,
            "height": null,
            "min_height": null,
            "padding": null,
            "grid_auto_rows": null,
            "grid_gap": null,
            "max_width": null,
            "order": null,
            "_view_module_version": "1.2.0",
            "grid_template_areas": null,
            "object_position": null,
            "object_fit": null,
            "grid_auto_columns": null,
            "margin": null,
            "display": null,
            "left": null
          }
        },
        "776eae11aeeb45ae97ed29bcbbd411e4": {
          "model_module": "@jupyter-widgets/controls",
          "model_name": "DescriptionStyleModel",
          "state": {
            "_view_name": "StyleView",
            "_model_name": "DescriptionStyleModel",
            "description_width": "",
            "_view_module": "@jupyter-widgets/base",
            "_model_module_version": "1.5.0",
            "_view_count": null,
            "_view_module_version": "1.2.0",
            "_model_module": "@jupyter-widgets/controls"
          }
        },
        "9075f30e24a94aca9fca83d1e79aae3d": {
          "model_module": "@jupyter-widgets/base",
          "model_name": "LayoutModel",
          "state": {
            "_view_name": "LayoutView",
            "grid_template_rows": null,
            "right": null,
            "justify_content": null,
            "_view_module": "@jupyter-widgets/base",
            "overflow": null,
            "_model_module_version": "1.2.0",
            "_view_count": null,
            "flex_flow": null,
            "width": null,
            "min_width": null,
            "border": null,
            "align_items": null,
            "bottom": null,
            "_model_module": "@jupyter-widgets/base",
            "top": null,
            "grid_column": null,
            "overflow_y": null,
            "overflow_x": null,
            "grid_auto_flow": null,
            "grid_area": null,
            "grid_template_columns": null,
            "flex": null,
            "_model_name": "LayoutModel",
            "justify_items": null,
            "grid_row": null,
            "max_height": null,
            "align_content": null,
            "visibility": null,
            "align_self": null,
            "height": null,
            "min_height": null,
            "padding": null,
            "grid_auto_rows": null,
            "grid_gap": null,
            "max_width": null,
            "order": null,
            "_view_module_version": "1.2.0",
            "grid_template_areas": null,
            "object_position": null,
            "object_fit": null,
            "grid_auto_columns": null,
            "margin": null,
            "display": null,
            "left": null
          }
        },
        "084e453a839341b29e7f4ac1b342412c": {
          "model_module": "@jupyter-widgets/controls",
          "model_name": "HBoxModel",
          "state": {
            "_view_name": "HBoxView",
            "_dom_classes": [],
            "_model_name": "HBoxModel",
            "_view_module": "@jupyter-widgets/controls",
            "_model_module_version": "1.5.0",
            "_view_count": null,
            "_view_module_version": "1.5.0",
            "box_style": "",
            "layout": "IPY_MODEL_db17936e8abc4570992dd33fe049ee8f",
            "_model_module": "@jupyter-widgets/controls",
            "children": [
              "IPY_MODEL_beaf1a025cee455fb1fbc252bd16b0ca",
              "IPY_MODEL_d624fbfd3a81454c82c2b8f830666f0b"
            ]
          }
        },
        "db17936e8abc4570992dd33fe049ee8f": {
          "model_module": "@jupyter-widgets/base",
          "model_name": "LayoutModel",
          "state": {
            "_view_name": "LayoutView",
            "grid_template_rows": null,
            "right": null,
            "justify_content": null,
            "_view_module": "@jupyter-widgets/base",
            "overflow": null,
            "_model_module_version": "1.2.0",
            "_view_count": null,
            "flex_flow": null,
            "width": null,
            "min_width": null,
            "border": null,
            "align_items": null,
            "bottom": null,
            "_model_module": "@jupyter-widgets/base",
            "top": null,
            "grid_column": null,
            "overflow_y": null,
            "overflow_x": null,
            "grid_auto_flow": null,
            "grid_area": null,
            "grid_template_columns": null,
            "flex": null,
            "_model_name": "LayoutModel",
            "justify_items": null,
            "grid_row": null,
            "max_height": null,
            "align_content": null,
            "visibility": null,
            "align_self": null,
            "height": null,
            "min_height": null,
            "padding": null,
            "grid_auto_rows": null,
            "grid_gap": null,
            "max_width": null,
            "order": null,
            "_view_module_version": "1.2.0",
            "grid_template_areas": null,
            "object_position": null,
            "object_fit": null,
            "grid_auto_columns": null,
            "margin": null,
            "display": null,
            "left": null
          }
        },
        "beaf1a025cee455fb1fbc252bd16b0ca": {
          "model_module": "@jupyter-widgets/controls",
          "model_name": "FloatProgressModel",
          "state": {
            "_view_name": "ProgressView",
            "style": "IPY_MODEL_fd3d33b383e3435a8eca1e97bb7bd2dc",
            "_dom_classes": [],
            "description": "",
            "_model_name": "FloatProgressModel",
            "bar_style": "success",
            "max": 1,
            "_view_module": "@jupyter-widgets/controls",
            "_model_module_version": "1.5.0",
            "value": 1,
            "_view_count": null,
            "_view_module_version": "1.5.0",
            "orientation": "horizontal",
            "min": 0,
            "description_tooltip": null,
            "_model_module": "@jupyter-widgets/controls",
            "layout": "IPY_MODEL_24e0bdbf730749a89e1756c4c94b68db"
          }
        },
        "d624fbfd3a81454c82c2b8f830666f0b": {
          "model_module": "@jupyter-widgets/controls",
          "model_name": "HTMLModel",
          "state": {
            "_view_name": "HTMLView",
            "style": "IPY_MODEL_bf99d1e1beb841c490657e35d89a1513",
            "_dom_classes": [],
            "description": "",
            "_model_name": "HTMLModel",
            "placeholder": "​",
            "_view_module": "@jupyter-widgets/controls",
            "_model_module_version": "1.5.0",
            "value": " 8192/? [00:00&lt;00:00, 8675.49it/s]",
            "_view_count": null,
            "_view_module_version": "1.5.0",
            "description_tooltip": null,
            "_model_module": "@jupyter-widgets/controls",
            "layout": "IPY_MODEL_72d70d39b250480bbad25c5f852b0473"
          }
        },
        "fd3d33b383e3435a8eca1e97bb7bd2dc": {
          "model_module": "@jupyter-widgets/controls",
          "model_name": "ProgressStyleModel",
          "state": {
            "_view_name": "StyleView",
            "_model_name": "ProgressStyleModel",
            "description_width": "initial",
            "_view_module": "@jupyter-widgets/base",
            "_model_module_version": "1.5.0",
            "_view_count": null,
            "_view_module_version": "1.2.0",
            "bar_color": null,
            "_model_module": "@jupyter-widgets/controls"
          }
        },
        "24e0bdbf730749a89e1756c4c94b68db": {
          "model_module": "@jupyter-widgets/base",
          "model_name": "LayoutModel",
          "state": {
            "_view_name": "LayoutView",
            "grid_template_rows": null,
            "right": null,
            "justify_content": null,
            "_view_module": "@jupyter-widgets/base",
            "overflow": null,
            "_model_module_version": "1.2.0",
            "_view_count": null,
            "flex_flow": null,
            "width": null,
            "min_width": null,
            "border": null,
            "align_items": null,
            "bottom": null,
            "_model_module": "@jupyter-widgets/base",
            "top": null,
            "grid_column": null,
            "overflow_y": null,
            "overflow_x": null,
            "grid_auto_flow": null,
            "grid_area": null,
            "grid_template_columns": null,
            "flex": null,
            "_model_name": "LayoutModel",
            "justify_items": null,
            "grid_row": null,
            "max_height": null,
            "align_content": null,
            "visibility": null,
            "align_self": null,
            "height": null,
            "min_height": null,
            "padding": null,
            "grid_auto_rows": null,
            "grid_gap": null,
            "max_width": null,
            "order": null,
            "_view_module_version": "1.2.0",
            "grid_template_areas": null,
            "object_position": null,
            "object_fit": null,
            "grid_auto_columns": null,
            "margin": null,
            "display": null,
            "left": null
          }
        },
        "bf99d1e1beb841c490657e35d89a1513": {
          "model_module": "@jupyter-widgets/controls",
          "model_name": "DescriptionStyleModel",
          "state": {
            "_view_name": "StyleView",
            "_model_name": "DescriptionStyleModel",
            "description_width": "",
            "_view_module": "@jupyter-widgets/base",
            "_model_module_version": "1.5.0",
            "_view_count": null,
            "_view_module_version": "1.2.0",
            "_model_module": "@jupyter-widgets/controls"
          }
        },
        "72d70d39b250480bbad25c5f852b0473": {
          "model_module": "@jupyter-widgets/base",
          "model_name": "LayoutModel",
          "state": {
            "_view_name": "LayoutView",
            "grid_template_rows": null,
            "right": null,
            "justify_content": null,
            "_view_module": "@jupyter-widgets/base",
            "overflow": null,
            "_model_module_version": "1.2.0",
            "_view_count": null,
            "flex_flow": null,
            "width": null,
            "min_width": null,
            "border": null,
            "align_items": null,
            "bottom": null,
            "_model_module": "@jupyter-widgets/base",
            "top": null,
            "grid_column": null,
            "overflow_y": null,
            "overflow_x": null,
            "grid_auto_flow": null,
            "grid_area": null,
            "grid_template_columns": null,
            "flex": null,
            "_model_name": "LayoutModel",
            "justify_items": null,
            "grid_row": null,
            "max_height": null,
            "align_content": null,
            "visibility": null,
            "align_self": null,
            "height": null,
            "min_height": null,
            "padding": null,
            "grid_auto_rows": null,
            "grid_gap": null,
            "max_width": null,
            "order": null,
            "_view_module_version": "1.2.0",
            "grid_template_areas": null,
            "object_position": null,
            "object_fit": null,
            "grid_auto_columns": null,
            "margin": null,
            "display": null,
            "left": null
          }
        }
      }
    }
  },
  "cells": [
    {
      "cell_type": "markdown",
      "metadata": {
        "id": "Jd0wDn7vWjC-",
        "colab_type": "text"
      },
      "source": [
        "# **MNIST Handwritten Digits Classification**\n",
        "A FFNN (Feed Forward Neural Network) and CNN (Convolutional Nerual Network) have been modeled"
      ]
    },
    {
      "cell_type": "markdown",
      "metadata": {
        "id": "iQEobqIfZy0x",
        "colab_type": "text"
      },
      "source": [
        "## Import required packages"
      ]
    },
    {
      "cell_type": "code",
      "metadata": {
        "id": "qdrpoBnCj1r5",
        "colab_type": "code",
        "colab": {
          "base_uri": "https://localhost:8080/",
          "height": 51
        },
        "outputId": "80e79668-cb3c-4660-b6a6-1006ea3e1039"
      },
      "source": [
        "import numpy as np \n",
        "import torch \n",
        "from torchvision import datasets,transforms\n",
        "import matplotlib.pyplot as plt \n",
        "import seaborn as sns\n",
        "import torch.nn as nn\n",
        "import torch.nn.functional as F\n",
        "from torch.utils.data.sampler import SubsetRandomSampler"
      ],
      "execution_count": 1,
      "outputs": [
        {
          "output_type": "stream",
          "text": [
            "/usr/local/lib/python3.6/dist-packages/statsmodels/tools/_testing.py:19: FutureWarning: pandas.util.testing is deprecated. Use the functions in the public API at pandas.testing instead.\n",
            "  import pandas.util.testing as tm\n"
          ],
          "name": "stderr"
        }
      ]
    },
    {
      "cell_type": "markdown",
      "metadata": {
        "id": "h51P0XuLZ29A",
        "colab_type": "text"
      },
      "source": [
        "## Defining our Transforms"
      ]
    },
    {
      "cell_type": "code",
      "metadata": {
        "id": "ZPjHdd8IlJZw",
        "colab_type": "code",
        "colab": {}
      },
      "source": [
        "transform=transforms.Compose([transforms.ToTensor()])"
      ],
      "execution_count": 2,
      "outputs": []
    },
    {
      "cell_type": "markdown",
      "metadata": {
        "id": "seH5ywhsZ7CL",
        "colab_type": "text"
      },
      "source": [
        "## Gathering the train and test data\n"
      ]
    },
    {
      "cell_type": "code",
      "metadata": {
        "id": "rkagJHmFpVNd",
        "colab_type": "code",
        "colab": {
          "base_uri": "https://localhost:8080/",
          "height": 386,
          "referenced_widgets": [
            "ab7309e2797343f29d779efe01046914",
            "c52ddc49794247a4ba16953ae296a172",
            "e50b4dd2b7b1493d8b40716651939bc2",
            "d9e10a1a98db4338931c72967db0d806",
            "b2ad8531d80d4d049c5dc6fee7420dc0",
            "30029164616943e29190578a18dee0cb",
            "9577e4eb6ab6466f9b76d3bdac9605fc",
            "5bb17c6dcd0e428ca787b758a0eff7c3",
            "aa82d23b733f4d6887bf77d625a8c9e2",
            "10891cff8668436388335c8a94abd4bb",
            "ce1aa022e43b4a72842f98ba739c6e45",
            "847bc4c94f9c4fdb81d42cfb6d2c30e2",
            "ad9c72eb00b649c9897bd22314b062a6",
            "2601fa239149486fb8a39554312b1c0a",
            "2e5cf88e9f8e44fe9fe7811b6ed3db3e",
            "642b1057167e467e93894de6c023cdc4",
            "0ab84dc2513943ccab58d09f4ceb9463",
            "20df32632996421e83f8f6e7673149fd",
            "0cb140d3944443faa04047d580e5182a",
            "cc1e83f2af594ed1b6849439082752de",
            "e79e2166e3c24fb7afe8809df7f08c8a",
            "db93e628b5f14172b6de93a165d3eeee",
            "776eae11aeeb45ae97ed29bcbbd411e4",
            "9075f30e24a94aca9fca83d1e79aae3d",
            "084e453a839341b29e7f4ac1b342412c",
            "db17936e8abc4570992dd33fe049ee8f",
            "beaf1a025cee455fb1fbc252bd16b0ca",
            "d624fbfd3a81454c82c2b8f830666f0b",
            "fd3d33b383e3435a8eca1e97bb7bd2dc",
            "24e0bdbf730749a89e1756c4c94b68db",
            "bf99d1e1beb841c490657e35d89a1513",
            "72d70d39b250480bbad25c5f852b0473"
          ]
        },
        "outputId": "07850512-718a-4ad8-adb3-65d0945dd57d"
      },
      "source": [
        "train_data=datasets.MNIST('data',train=True,download=True,transform=transform)\n",
        "test_data=datasets.MNIST('data',train=False,download=True,transform=transform)"
      ],
      "execution_count": 3,
      "outputs": [
        {
          "output_type": "stream",
          "text": [
            "Downloading http://yann.lecun.com/exdb/mnist/train-images-idx3-ubyte.gz to data/MNIST/raw/train-images-idx3-ubyte.gz\n"
          ],
          "name": "stdout"
        },
        {
          "output_type": "display_data",
          "data": {
            "application/vnd.jupyter.widget-view+json": {
              "model_id": "ab7309e2797343f29d779efe01046914",
              "version_minor": 0,
              "version_major": 2
            },
            "text/plain": [
              "HBox(children=(FloatProgress(value=1.0, bar_style='info', max=1.0), HTML(value='')))"
            ]
          },
          "metadata": {
            "tags": []
          }
        },
        {
          "output_type": "stream",
          "text": [
            "Extracting data/MNIST/raw/train-images-idx3-ubyte.gz to data/MNIST/raw\n",
            "Downloading http://yann.lecun.com/exdb/mnist/train-labels-idx1-ubyte.gz to data/MNIST/raw/train-labels-idx1-ubyte.gz\n"
          ],
          "name": "stdout"
        },
        {
          "output_type": "display_data",
          "data": {
            "application/vnd.jupyter.widget-view+json": {
              "model_id": "aa82d23b733f4d6887bf77d625a8c9e2",
              "version_minor": 0,
              "version_major": 2
            },
            "text/plain": [
              "HBox(children=(FloatProgress(value=1.0, bar_style='info', max=1.0), HTML(value='')))"
            ]
          },
          "metadata": {
            "tags": []
          }
        },
        {
          "output_type": "stream",
          "text": [
            "Extracting data/MNIST/raw/train-labels-idx1-ubyte.gz to data/MNIST/raw\n",
            "Downloading http://yann.lecun.com/exdb/mnist/t10k-images-idx3-ubyte.gz to data/MNIST/raw/t10k-images-idx3-ubyte.gz\n",
            "\n"
          ],
          "name": "stdout"
        },
        {
          "output_type": "display_data",
          "data": {
            "application/vnd.jupyter.widget-view+json": {
              "model_id": "0ab84dc2513943ccab58d09f4ceb9463",
              "version_minor": 0,
              "version_major": 2
            },
            "text/plain": [
              "HBox(children=(FloatProgress(value=1.0, bar_style='info', max=1.0), HTML(value='')))"
            ]
          },
          "metadata": {
            "tags": []
          }
        },
        {
          "output_type": "stream",
          "text": [
            "Extracting data/MNIST/raw/t10k-images-idx3-ubyte.gz to data/MNIST/raw\n",
            "Downloading http://yann.lecun.com/exdb/mnist/t10k-labels-idx1-ubyte.gz to data/MNIST/raw/t10k-labels-idx1-ubyte.gz\n"
          ],
          "name": "stdout"
        },
        {
          "output_type": "display_data",
          "data": {
            "application/vnd.jupyter.widget-view+json": {
              "model_id": "084e453a839341b29e7f4ac1b342412c",
              "version_minor": 0,
              "version_major": 2
            },
            "text/plain": [
              "HBox(children=(FloatProgress(value=1.0, bar_style='info', max=1.0), HTML(value='')))"
            ]
          },
          "metadata": {
            "tags": []
          }
        },
        {
          "output_type": "stream",
          "text": [
            "Extracting data/MNIST/raw/t10k-labels-idx1-ubyte.gz to data/MNIST/raw\n",
            "Processing...\n",
            "Done!\n"
          ],
          "name": "stdout"
        },
        {
          "output_type": "stream",
          "text": [
            "/usr/local/lib/python3.6/dist-packages/torchvision/datasets/mnist.py:469: UserWarning: The given NumPy array is not writeable, and PyTorch does not support non-writeable tensors. This means you can write to the underlying (supposedly non-writeable) NumPy array using the tensor. You may want to copy the array to protect its data or make it writeable before converting it to a tensor. This type of warning will be suppressed for the rest of this program. (Triggered internally at  /pytorch/torch/csrc/utils/tensor_numpy.cpp:141.)\n",
            "  return torch.from_numpy(parsed.astype(m[2], copy=False)).view(*s)\n"
          ],
          "name": "stderr"
        }
      ]
    },
    {
      "cell_type": "markdown",
      "metadata": {
        "id": "UPffPjsoZ-Os",
        "colab_type": "text"
      },
      "source": [
        "## Defining our Train, Valid and Test Dataloaders"
      ]
    },
    {
      "cell_type": "code",
      "metadata": {
        "id": "2b3RqpZ8Jq19",
        "colab_type": "code",
        "colab": {}
      },
      "source": [
        "valid_size=0.2\n",
        "\n",
        "# IMPORTANT \n",
        "batch_size=20\n",
        "\n",
        "num_workers=0\n",
        "\n",
        "train_length = len(train_data)\n",
        "\n",
        "# obtain training dataset indices that will be used for validation dataset\n",
        "indices = list(range(train_length))\n",
        "\n",
        "np.random.shuffle(indices)\n",
        "split = int(np.floor(valid_size * train_length))\n",
        "train_idx, valid_idx = indices[split:], indices[:split]\n",
        "\n",
        "# define samplers for obtaining training and validation batches\n",
        "train_sampler = SubsetRandomSampler(train_idx)\n",
        "valid_sampler = SubsetRandomSampler(valid_idx)\n",
        "\n",
        "# prepare data loaders for train, test and validation dataset\n",
        "train_loader = torch.utils.data.DataLoader(train_data, batch_size=batch_size,\n",
        "    sampler=train_sampler, num_workers=num_workers)\n",
        "valid_loader = torch.utils.data.DataLoader(train_data, batch_size=batch_size, \n",
        "    sampler=valid_sampler, num_workers=num_workers)\n",
        "test_loader = torch.utils.data.DataLoader(test_data, batch_size=batch_size, \n",
        "    num_workers=num_workers)"
      ],
      "execution_count": 4,
      "outputs": []
    },
    {
      "cell_type": "code",
      "metadata": {
        "id": "SFrfD1rovarC",
        "colab_type": "code",
        "colab": {
          "base_uri": "https://localhost:8080/",
          "height": 34
        },
        "outputId": "c35e1451-6558-45ea-ba01-746ad36a64e7"
      },
      "source": [
        "# This is for debugging\n",
        "train_idx.__len__(),valid_idx.__len__()"
      ],
      "execution_count": 5,
      "outputs": [
        {
          "output_type": "execute_result",
          "data": {
            "text/plain": [
              "(48000, 12000)"
            ]
          },
          "metadata": {
            "tags": []
          },
          "execution_count": 5
        }
      ]
    },
    {
      "cell_type": "code",
      "metadata": {
        "id": "Ia4zhtOwaNF-",
        "colab_type": "code",
        "colab": {
          "base_uri": "https://localhost:8080/",
          "height": 34
        },
        "outputId": "ee9bff35-07ac-4de7-e5e2-f6146381d1ed"
      },
      "source": [
        "# Printing the length of our train, valid and test dataloaders\n",
        "# NOTE : Here batch size is 20\n",
        "len(train_loader),len(valid_loader),len(test_loader)"
      ],
      "execution_count": 6,
      "outputs": [
        {
          "output_type": "execute_result",
          "data": {
            "text/plain": [
              "(2400, 600, 500)"
            ]
          },
          "metadata": {
            "tags": []
          },
          "execution_count": 6
        }
      ]
    },
    {
      "cell_type": "code",
      "metadata": {
        "id": "MygM53E6aPDq",
        "colab_type": "code",
        "colab": {
          "base_uri": "https://localhost:8080/",
          "height": 986
        },
        "outputId": "4127fc39-0dad-41d3-bac9-bff4a7d0ea12"
      },
      "source": [
        "\n",
        "# checking our data\n",
        "dataiter=iter(train_loader)\n",
        "images,labels=dataiter.next()\n",
        "print(images, images.shape, len(images), images[0].shape)\n",
        "print()\n",
        "print(labels,labels.shape,len(labels))"
      ],
      "execution_count": 7,
      "outputs": [
        {
          "output_type": "stream",
          "text": [
            "tensor([[[[0., 0., 0.,  ..., 0., 0., 0.],\n",
            "          [0., 0., 0.,  ..., 0., 0., 0.],\n",
            "          [0., 0., 0.,  ..., 0., 0., 0.],\n",
            "          ...,\n",
            "          [0., 0., 0.,  ..., 0., 0., 0.],\n",
            "          [0., 0., 0.,  ..., 0., 0., 0.],\n",
            "          [0., 0., 0.,  ..., 0., 0., 0.]]],\n",
            "\n",
            "\n",
            "        [[[0., 0., 0.,  ..., 0., 0., 0.],\n",
            "          [0., 0., 0.,  ..., 0., 0., 0.],\n",
            "          [0., 0., 0.,  ..., 0., 0., 0.],\n",
            "          ...,\n",
            "          [0., 0., 0.,  ..., 0., 0., 0.],\n",
            "          [0., 0., 0.,  ..., 0., 0., 0.],\n",
            "          [0., 0., 0.,  ..., 0., 0., 0.]]],\n",
            "\n",
            "\n",
            "        [[[0., 0., 0.,  ..., 0., 0., 0.],\n",
            "          [0., 0., 0.,  ..., 0., 0., 0.],\n",
            "          [0., 0., 0.,  ..., 0., 0., 0.],\n",
            "          ...,\n",
            "          [0., 0., 0.,  ..., 0., 0., 0.],\n",
            "          [0., 0., 0.,  ..., 0., 0., 0.],\n",
            "          [0., 0., 0.,  ..., 0., 0., 0.]]],\n",
            "\n",
            "\n",
            "        ...,\n",
            "\n",
            "\n",
            "        [[[0., 0., 0.,  ..., 0., 0., 0.],\n",
            "          [0., 0., 0.,  ..., 0., 0., 0.],\n",
            "          [0., 0., 0.,  ..., 0., 0., 0.],\n",
            "          ...,\n",
            "          [0., 0., 0.,  ..., 0., 0., 0.],\n",
            "          [0., 0., 0.,  ..., 0., 0., 0.],\n",
            "          [0., 0., 0.,  ..., 0., 0., 0.]]],\n",
            "\n",
            "\n",
            "        [[[0., 0., 0.,  ..., 0., 0., 0.],\n",
            "          [0., 0., 0.,  ..., 0., 0., 0.],\n",
            "          [0., 0., 0.,  ..., 0., 0., 0.],\n",
            "          ...,\n",
            "          [0., 0., 0.,  ..., 0., 0., 0.],\n",
            "          [0., 0., 0.,  ..., 0., 0., 0.],\n",
            "          [0., 0., 0.,  ..., 0., 0., 0.]]],\n",
            "\n",
            "\n",
            "        [[[0., 0., 0.,  ..., 0., 0., 0.],\n",
            "          [0., 0., 0.,  ..., 0., 0., 0.],\n",
            "          [0., 0., 0.,  ..., 0., 0., 0.],\n",
            "          ...,\n",
            "          [0., 0., 0.,  ..., 0., 0., 0.],\n",
            "          [0., 0., 0.,  ..., 0., 0., 0.],\n",
            "          [0., 0., 0.,  ..., 0., 0., 0.]]]]) torch.Size([20, 1, 28, 28]) 20 torch.Size([1, 28, 28])\n",
            "\n",
            "tensor([8, 4, 2, 8, 5, 1, 2, 2, 2, 5, 0, 5, 7, 9, 9, 0, 7, 5, 0, 7]) torch.Size([20]) 20\n"
          ],
          "name": "stdout"
        }
      ]
    },
    {
      "cell_type": "markdown",
      "metadata": {
        "id": "3bJU78-BaDfm",
        "colab_type": "text"
      },
      "source": [
        "## Visualizing a Training batch"
      ]
    },
    {
      "cell_type": "code",
      "metadata": {
        "id": "eMhKVPKTaWTz",
        "colab_type": "code",
        "colab": {
          "base_uri": "https://localhost:8080/",
          "height": 469
        },
        "outputId": "c6b14b07-510d-49f7-8733-d01e9fd72127"
      },
      "source": [
        "# Displaying images and labels of a batch\n",
        "fig=plt.figure(figsize=(30,10))\n",
        "for i in range(len(labels)):\n",
        "    ax=fig.add_subplot(2,10,i+1,xticks=[],yticks=[])\n",
        "    plt.imshow(np.squeeze(images[i]))\n",
        "    ax.set_title(labels[i].item(),color='blue')"
      ],
      "execution_count": 8,
      "outputs": [
        {
          "output_type": "stream",
          "text": [
            "\n",
            "\n"
          ],
          "name": "stdout"
        },
        {
          "output_type": "display_data",
          "data": {
            "image/png": "[encoded data removed]",
            "text/plain": [
              "<Figure size 2160x720 with 20 Axes>"
            ]
          },
          "metadata": {
            "tags": []
          }
        }
      ]
    },
    {
      "cell_type": "markdown",
      "metadata": {
        "id": "bei4lsIdaF8p",
        "colab_type": "text"
      },
      "source": [
        "## Defining our Neural Net Architecture"
      ]
    },
    {
      "cell_type": "code",
      "metadata": {
        "id": "3UER4pRlaXpX",
        "colab_type": "code",
        "colab": {}
      },
      "source": [
        "\n",
        "# Model 1 : This model has dropout set to a certain value\n",
        "# NOTE : When we want to use dropout we ensure we run train() method on our model --- during training , if not required we should use eval() method --- validation and testing\n",
        "class FNet(nn.Module):\n",
        "    def __init__(self):\n",
        "        super(FNet,self).__init__()\n",
        "        self.fc1=nn.Linear(784,512)\n",
        "        self.fc2=nn.Linear(512,256)\n",
        "        self.out=nn.Linear(256,10)\n",
        "        \n",
        "        # Dropout probability - set for avoiding overfitting\n",
        "        self.dropout=nn.Dropout(0.2)\n",
        "\n",
        "    def forward(self,x):\n",
        "        x = x.view(-1, 28 * 28)        \n",
        "        x=self.dropout(F.relu(self.fc1(x)))\n",
        "        x=self.dropout(F.relu(self.fc2(x)))\n",
        "        x=self.out(x)\n",
        "        return x\n",
        "\n",
        "class convNet(nn.Module):\n",
        "  def __init__(self):\n",
        "    super(convNet,self).__init__()\n",
        "    self.conv1=nn.Conv2d(in_channels=1,out_channels=16,kernel_size=3,padding=1,stride=1)\n",
        "    self.conv2=nn.Conv2d(in_channels=16,out_channels=32,kernel_size=3,padding=1,stride=1)\n",
        "    self.pool=nn.MaxPool2d(kernel_size=2,stride=2)\n",
        "\n",
        "\n",
        "    self.fc1=nn.Linear(7*7*32,512)\n",
        "    self.fc2=nn.Linear(512,256)\n",
        "    self.out=nn.Linear(256,10)\n",
        "    self.dropout=nn.Dropout(0.2)\n",
        "\n",
        "  def forward(self,x):\n",
        "    x=self.pool(F.relu(self.conv1(x)))\n",
        "    x=self.pool(F.relu(self.conv2(x)))\n",
        "    x=x.view(-1,7*7*32)\n",
        "    x = self.dropout(x)\n",
        "    x=self.dropout(F.relu(self.fc1(x)))\n",
        "    x=self.dropout(F.relu(self.fc2(x)))\n",
        "    x=self.out(x)\n",
        "    return x\n",
        "    "
      ],
      "execution_count": 9,
      "outputs": []
    },
    {
      "cell_type": "code",
      "metadata": {
        "id": "ZraXzPRya1X_",
        "colab_type": "code",
        "colab": {
          "base_uri": "https://localhost:8080/",
          "height": 391
        },
        "outputId": "e13adace-5f25-4acc-b5a3-20627724074e"
      },
      "source": [
        "model_1=FNet()\n",
        "model_2=convNet()\n",
        "\n",
        "def weight_init_normal(m):\n",
        "    classname=m.__class__.__name__\n",
        "    if classname.find('Linear')!=-1:\n",
        "        n = m.in_features\n",
        "        y = (1.0/np.sqrt(n))\n",
        "        m.weight.data.normal_(0, y)\n",
        "        m.bias.data.fill_(0)\n",
        "model_1.apply(weight_init_normal),model_2.apply(weight_init_normal)\n",
        "use_cuda=True\n",
        "if use_cuda and torch.cuda.is_available():\n",
        "  model_1.cuda()\n",
        "  model_2.cuda()\n",
        "\n",
        "\n",
        "print(model_1,'\\n\\n\\n\\n',model_2,'\\n\\n\\n\\n','On GPU : ',torch.cuda.is_available())"
      ],
      "execution_count": 10,
      "outputs": [
        {
          "output_type": "stream",
          "text": [
            "FNet(\n",
            "  (fc1): Linear(in_features=784, out_features=512, bias=True)\n",
            "  (fc2): Linear(in_features=512, out_features=256, bias=True)\n",
            "  (out): Linear(in_features=256, out_features=10, bias=True)\n",
            "  (dropout): Dropout(p=0.2, inplace=False)\n",
            ") \n",
            "\n",
            "\n",
            "\n",
            " convNet(\n",
            "  (conv1): Conv2d(1, 16, kernel_size=(3, 3), stride=(1, 1), padding=(1, 1))\n",
            "  (conv2): Conv2d(16, 32, kernel_size=(3, 3), stride=(1, 1), padding=(1, 1))\n",
            "  (pool): MaxPool2d(kernel_size=2, stride=2, padding=0, dilation=1, ceil_mode=False)\n",
            "  (fc1): Linear(in_features=1568, out_features=512, bias=True)\n",
            "  (fc2): Linear(in_features=512, out_features=256, bias=True)\n",
            "  (out): Linear(in_features=256, out_features=10, bias=True)\n",
            "  (dropout): Dropout(p=0.2, inplace=False)\n",
            ") \n",
            "\n",
            "\n",
            "\n",
            " On GPU :  True\n"
          ],
          "name": "stdout"
        }
      ]
    },
    {
      "cell_type": "markdown",
      "metadata": {
        "id": "W6fHiVR0aKEL",
        "colab_type": "text"
      },
      "source": [
        "## Defining our Loss Function"
      ]
    },
    {
      "cell_type": "code",
      "metadata": {
        "id": "0l5LIkQmaa6t",
        "colab_type": "code",
        "colab": {}
      },
      "source": [
        "# Loss Function\n",
        "# If we did not compute softmax at output use nn.CrossentropyLoss() else use nn.NLLLoss()\n",
        "criterion=nn.CrossEntropyLoss()\n"
      ],
      "execution_count": 11,
      "outputs": []
    },
    {
      "cell_type": "markdown",
      "metadata": {
        "id": "z4VHb9kUaPC5",
        "colab_type": "text"
      },
      "source": [
        "## Training and Validation Phase"
      ]
    },
    {
      "cell_type": "code",
      "metadata": {
        "id": "rGTVhhVaacsi",
        "colab_type": "code",
        "colab": {}
      },
      "source": [
        "def trainNet(model,lr):\n",
        "    optimizer=torch.optim.Adam(model.parameters(),lr=lr)\n",
        "\n",
        "\n",
        "    # Number of epochs to train for\n",
        "    loss_keeper={'train':[],'valid':[]}\n",
        "    epochs=20\n",
        "\n",
        "    # minimum validation loss ----- set initial minimum to infinity\n",
        "    valid_loss_min = np.Inf \n",
        "\n",
        "    for epoch in range(epochs):\n",
        "        train_loss=0.0\n",
        "        valid_loss=0.0\n",
        "\n",
        "        \"\"\"\n",
        "        TRAINING PHASE\n",
        "        \"\"\"\n",
        "        model.train() # TURN ON DROPOUT for training\n",
        "        for images,labels in train_loader:\n",
        "            if use_cuda and torch.cuda.is_available():\n",
        "                images,labels=images.cuda(),labels.cuda()\n",
        "            optimizer.zero_grad()\n",
        "            output=model(images)\n",
        "            loss=criterion(output,labels)\n",
        "            loss.backward()\n",
        "            optimizer.step()\n",
        "            train_loss+=loss.item()\n",
        "\n",
        "        \"\"\"\n",
        "        VALIDATION PHASE\n",
        "        \"\"\"\n",
        "        model.eval() # TURN OFF DROPOUT for validation\n",
        "        for images,labels in valid_loader:\n",
        "            if use_cuda and torch.cuda.is_available():\n",
        "                images,labels=images.cuda(),labels.cuda()\n",
        "            output=model(images)\n",
        "            loss=criterion(output,labels)\n",
        "            valid_loss+=loss.item()\n",
        "\n",
        "        # Calculating loss over entire batch size for every epoch\n",
        "        train_loss = train_loss/len(train_loader)\n",
        "        valid_loss = valid_loss/len(valid_loader)\n",
        "\n",
        "\n",
        "        # saving loss values\n",
        "        loss_keeper['train'].append(train_loss)\n",
        "        loss_keeper['valid'].append(valid_loss)\n",
        "\n",
        "        print(f\"\\nEpoch : {epoch+1}\\tTraining Loss : {train_loss}\\tValidation Loss : {valid_loss}\")\n",
        "        if valid_loss<=valid_loss_min:\n",
        "            print(f\"Validation loss decreased from : {valid_loss_min} ----> {valid_loss} ----> Saving Model.......\")\n",
        "            z=type(model).__name__\n",
        "            torch.save(model.state_dict(), z+'_model.pth')\n",
        "            valid_loss_min=valid_loss\n",
        "    return(loss_keeper)"
      ],
      "execution_count": 12,
      "outputs": []
    },
    {
      "cell_type": "code",
      "metadata": {
        "id": "5tyKfCORo-kn",
        "colab_type": "code",
        "colab": {
          "base_uri": "https://localhost:8080/",
          "height": 765
        },
        "outputId": "81679316-e1ab-443a-be4d-3b10fa3ac16d"
      },
      "source": [
        "m1_loss=trainNet(model_1,0.001)"
      ],
      "execution_count": 13,
      "outputs": [
        {
          "output_type": "stream",
          "text": [
            "\n",
            "Epoch : 1\tTraining Loss : 0.2422629656934684\tValidation Loss : 0.13923731955447388\n",
            "Validation loss decreased from : inf ----> 0.13923731955447388 ----> Saving Model.......\n",
            "\n",
            "Epoch : 2\tTraining Loss : 0.12041777377974844\tValidation Loss : 0.09333456304622814\n",
            "Validation loss decreased from : 0.13923731955447388 ----> 0.09333456304622814 ----> Saving Model.......\n",
            "\n",
            "Epoch : 3\tTraining Loss : 0.09124215679091321\tValidation Loss : 0.08732658982793509\n",
            "Validation loss decreased from : 0.09333456304622814 ----> 0.08732658982793509 ----> Saving Model.......\n",
            "\n",
            "Epoch : 4\tTraining Loss : 0.07515262847801447\tValidation Loss : 0.07441183373576375\n",
            "Validation loss decreased from : 0.08732658982793509 ----> 0.07441183373576375 ----> Saving Model.......\n",
            "\n",
            "Epoch : 5\tTraining Loss : 0.06402977682726942\tValidation Loss : 0.07680957797386327\n",
            "\n",
            "Epoch : 6\tTraining Loss : 0.05664616146977513\tValidation Loss : 0.0880538620307046\n",
            "\n",
            "Epoch : 7\tTraining Loss : 0.051444328285388016\tValidation Loss : 0.08325202515443124\n",
            "\n",
            "Epoch : 8\tTraining Loss : 0.04609021995215905\tValidation Loss : 0.08688966881602028\n",
            "\n",
            "Epoch : 9\tTraining Loss : 0.047100753822042554\tValidation Loss : 0.08294352103531423\n",
            "\n",
            "Epoch : 10\tTraining Loss : 0.03950506071542602\tValidation Loss : 0.09510297800134627\n",
            "\n",
            "Epoch : 11\tTraining Loss : 0.041244718991849574\tValidation Loss : 0.10204777641329112\n",
            "\n",
            "Epoch : 12\tTraining Loss : 0.03726233969181192\tValidation Loss : 0.09557511779722253\n",
            "\n",
            "Epoch : 13\tTraining Loss : 0.036715185114271846\tValidation Loss : 0.10355871919840968\n",
            "\n",
            "Epoch : 14\tTraining Loss : 0.03524123047048846\tValidation Loss : 0.09944316884041603\n",
            "\n",
            "Epoch : 15\tTraining Loss : 0.03153951110024778\tValidation Loss : 0.12172619117043518\n",
            "\n",
            "Epoch : 16\tTraining Loss : 0.0358803616567481\tValidation Loss : 0.12436745904166036\n",
            "\n",
            "Epoch : 17\tTraining Loss : 0.032996612528829586\tValidation Loss : 0.12394249850443266\n",
            "\n",
            "Epoch : 18\tTraining Loss : 0.027076754712408703\tValidation Loss : 0.12557926613636103\n",
            "\n",
            "Epoch : 19\tTraining Loss : 0.03279251826804246\tValidation Loss : 0.13974967400222493\n",
            "\n",
            "Epoch : 20\tTraining Loss : 0.03136718728818913\tValidation Loss : 0.11489617978800716\n"
          ],
          "name": "stdout"
        }
      ]
    },
    {
      "cell_type": "code",
      "metadata": {
        "id": "vNmdga7j89n7",
        "colab_type": "code",
        "colab": {
          "base_uri": "https://localhost:8080/",
          "height": 697
        },
        "outputId": "70c002b5-afc0-4e3c-ed09-2ed3f869250e"
      },
      "source": [
        "m1_loss"
      ],
      "execution_count": 14,
      "outputs": [
        {
          "output_type": "execute_result",
          "data": {
            "text/plain": [
              "{'train': [0.2422629656934684,\n",
              "  0.12041777377974844,\n",
              "  0.09124215679091321,\n",
              "  0.07515262847801447,\n",
              "  0.06402977682726942,\n",
              "  0.05664616146977513,\n",
              "  0.051444328285388016,\n",
              "  0.04609021995215905,\n",
              "  0.047100753822042554,\n",
              "  0.03950506071542602,\n",
              "  0.041244718991849574,\n",
              "  0.03726233969181192,\n",
              "  0.036715185114271846,\n",
              "  0.03524123047048846,\n",
              "  0.03153951110024778,\n",
              "  0.0358803616567481,\n",
              "  0.032996612528829586,\n",
              "  0.027076754712408703,\n",
              "  0.03279251826804246,\n",
              "  0.03136718728818913],\n",
              " 'valid': [0.13923731955447388,\n",
              "  0.09333456304622814,\n",
              "  0.08732658982793509,\n",
              "  0.07441183373576375,\n",
              "  0.07680957797386327,\n",
              "  0.0880538620307046,\n",
              "  0.08325202515443124,\n",
              "  0.08688966881602028,\n",
              "  0.08294352103531423,\n",
              "  0.09510297800134627,\n",
              "  0.10204777641329112,\n",
              "  0.09557511779722253,\n",
              "  0.10355871919840968,\n",
              "  0.09944316884041603,\n",
              "  0.12172619117043518,\n",
              "  0.12436745904166036,\n",
              "  0.12394249850443266,\n",
              "  0.12557926613636103,\n",
              "  0.13974967400222493,\n",
              "  0.11489617978800716]}"
            ]
          },
          "metadata": {
            "tags": []
          },
          "execution_count": 14
        }
      ]
    },
    {
      "cell_type": "code",
      "metadata": {
        "id": "-X4CD_DoxZHH",
        "colab_type": "code",
        "colab": {
          "base_uri": "https://localhost:8080/",
          "height": 765
        },
        "outputId": "7ab8dde7-1612-4d5c-de57-06d42f5186a4"
      },
      "source": [
        "m2_loss=trainNet(model_2,0.001)"
      ],
      "execution_count": 15,
      "outputs": [
        {
          "output_type": "stream",
          "text": [
            "\n",
            "Epoch : 1\tTraining Loss : 0.1826872301630768\tValidation Loss : 0.06585097063992483\n",
            "Validation loss decreased from : inf ----> 0.06585097063992483 ----> Saving Model.......\n",
            "\n",
            "Epoch : 2\tTraining Loss : 0.0674664011702195\tValidation Loss : 0.04612872727685802\n",
            "Validation loss decreased from : 0.06585097063992483 ----> 0.04612872727685802 ----> Saving Model.......\n",
            "\n",
            "Epoch : 3\tTraining Loss : 0.050894734488366185\tValidation Loss : 0.03867369514993925\n",
            "Validation loss decreased from : 0.04612872727685802 ----> 0.03867369514993925 ----> Saving Model.......\n",
            "\n",
            "Epoch : 4\tTraining Loss : 0.04129452675137311\tValidation Loss : 0.052427549013309545\n",
            "\n",
            "Epoch : 5\tTraining Loss : 0.0365402026555545\tValidation Loss : 0.04735522323755769\n",
            "\n",
            "Epoch : 6\tTraining Loss : 0.03031732397953616\tValidation Loss : 0.03929244600439025\n",
            "\n",
            "Epoch : 7\tTraining Loss : 0.029407411107780383\tValidation Loss : 0.033328903499340944\n",
            "Validation loss decreased from : 0.03867369514993925 ----> 0.033328903499340944 ----> Saving Model.......\n",
            "\n",
            "Epoch : 8\tTraining Loss : 0.02437169043765626\tValidation Loss : 0.039428115541503155\n",
            "\n",
            "Epoch : 9\tTraining Loss : 0.02453923800847876\tValidation Loss : 0.04056901453031609\n",
            "\n",
            "Epoch : 10\tTraining Loss : 0.023616162115714334\tValidation Loss : 0.05141845186291533\n",
            "\n",
            "Epoch : 11\tTraining Loss : 0.021621274729049553\tValidation Loss : 0.04135949456253753\n",
            "\n",
            "Epoch : 12\tTraining Loss : 0.017968397914148504\tValidation Loss : 0.04822746347893704\n",
            "\n",
            "Epoch : 13\tTraining Loss : 0.016996163129919167\tValidation Loss : 0.04550639333938073\n",
            "\n",
            "Epoch : 14\tTraining Loss : 0.017790891666109476\tValidation Loss : 0.045940867657337056\n",
            "\n",
            "Epoch : 15\tTraining Loss : 0.016738109681809152\tValidation Loss : 0.049315622418102154\n",
            "\n",
            "Epoch : 16\tTraining Loss : 0.01715114416935609\tValidation Loss : 0.04806307668042017\n",
            "\n",
            "Epoch : 17\tTraining Loss : 0.016048815001717356\tValidation Loss : 0.04278426816728307\n",
            "\n",
            "Epoch : 18\tTraining Loss : 0.013644983192738127\tValidation Loss : 0.05559660668154593\n",
            "\n",
            "Epoch : 19\tTraining Loss : 0.015528520039336536\tValidation Loss : 0.06406163931759701\n",
            "\n",
            "Epoch : 20\tTraining Loss : 0.013415283101180947\tValidation Loss : 0.05390467394411902\n"
          ],
          "name": "stdout"
        }
      ]
    },
    {
      "cell_type": "code",
      "metadata": {
        "id": "XAen2eRc8998",
        "colab_type": "code",
        "colab": {
          "base_uri": "https://localhost:8080/",
          "height": 697
        },
        "outputId": "b64c7096-6f69-46ed-9d2a-9b8a3d0fb8f8"
      },
      "source": [
        "m2_loss"
      ],
      "execution_count": 16,
      "outputs": [
        {
          "output_type": "execute_result",
          "data": {
            "text/plain": [
              "{'train': [0.1826872301630768,\n",
              "  0.0674664011702195,\n",
              "  0.050894734488366185,\n",
              "  0.04129452675137311,\n",
              "  0.0365402026555545,\n",
              "  0.03031732397953616,\n",
              "  0.029407411107780383,\n",
              "  0.02437169043765626,\n",
              "  0.02453923800847876,\n",
              "  0.023616162115714334,\n",
              "  0.021621274729049553,\n",
              "  0.017968397914148504,\n",
              "  0.016996163129919167,\n",
              "  0.017790891666109476,\n",
              "  0.016738109681809152,\n",
              "  0.01715114416935609,\n",
              "  0.016048815001717356,\n",
              "  0.013644983192738127,\n",
              "  0.015528520039336536,\n",
              "  0.013415283101180947],\n",
              " 'valid': [0.06585097063992483,\n",
              "  0.04612872727685802,\n",
              "  0.03867369514993925,\n",
              "  0.052427549013309545,\n",
              "  0.04735522323755769,\n",
              "  0.03929244600439025,\n",
              "  0.033328903499340944,\n",
              "  0.039428115541503155,\n",
              "  0.04056901453031609,\n",
              "  0.05141845186291533,\n",
              "  0.04135949456253753,\n",
              "  0.04822746347893704,\n",
              "  0.04550639333938073,\n",
              "  0.045940867657337056,\n",
              "  0.049315622418102154,\n",
              "  0.04806307668042017,\n",
              "  0.04278426816728307,\n",
              "  0.05559660668154593,\n",
              "  0.06406163931759701,\n",
              "  0.05390467394411902]}"
            ]
          },
          "metadata": {
            "tags": []
          },
          "execution_count": 16
        }
      ]
    },
    {
      "cell_type": "markdown",
      "metadata": {
        "id": "IE0r8VDjaSwh",
        "colab_type": "text"
      },
      "source": [
        "## Loading model from Lowest Validation Loss"
      ]
    },
    {
      "cell_type": "code",
      "metadata": {
        "id": "lsM_EUkk2xt3",
        "colab_type": "code",
        "colab": {
          "base_uri": "https://localhost:8080/",
          "height": 34
        },
        "outputId": "d4b4ca4c-4348-4848-975e-2c130c41f3d5"
      },
      "source": [
        "# Loading the model from the lowest validation loss \n",
        "model_1.load_state_dict(torch.load('FNet_model.pth'))\n",
        "model_2.load_state_dict(torch.load('convNet_model.pth'))\n"
      ],
      "execution_count": 17,
      "outputs": [
        {
          "output_type": "execute_result",
          "data": {
            "text/plain": [
              "<All keys matched successfully>"
            ]
          },
          "metadata": {
            "tags": []
          },
          "execution_count": 17
        }
      ]
    },
    {
      "cell_type": "code",
      "metadata": {
        "id": "1T5HFEp4-DTo",
        "colab_type": "code",
        "colab": {
          "base_uri": "https://localhost:8080/",
          "height": 323
        },
        "outputId": "d659c894-374f-4307-89d9-cd19caa0f922"
      },
      "source": [
        "print(model_1.state_dict,'\\n\\n\\n\\n',model_2.state_dict)"
      ],
      "execution_count": 18,
      "outputs": [
        {
          "output_type": "stream",
          "text": [
            "<bound method Module.state_dict of FNet(\n",
            "  (fc1): Linear(in_features=784, out_features=512, bias=True)\n",
            "  (fc2): Linear(in_features=512, out_features=256, bias=True)\n",
            "  (out): Linear(in_features=256, out_features=10, bias=True)\n",
            "  (dropout): Dropout(p=0.2, inplace=False)\n",
            ")> \n",
            "\n",
            "\n",
            "\n",
            " <bound method Module.state_dict of convNet(\n",
            "  (conv1): Conv2d(1, 16, kernel_size=(3, 3), stride=(1, 1), padding=(1, 1))\n",
            "  (conv2): Conv2d(16, 32, kernel_size=(3, 3), stride=(1, 1), padding=(1, 1))\n",
            "  (pool): MaxPool2d(kernel_size=2, stride=2, padding=0, dilation=1, ceil_mode=False)\n",
            "  (fc1): Linear(in_features=1568, out_features=512, bias=True)\n",
            "  (fc2): Linear(in_features=512, out_features=256, bias=True)\n",
            "  (out): Linear(in_features=256, out_features=10, bias=True)\n",
            "  (dropout): Dropout(p=0.2, inplace=False)\n",
            ")>\n"
          ],
          "name": "stdout"
        }
      ]
    },
    {
      "cell_type": "markdown",
      "metadata": {
        "id": "581oexFxaWjE",
        "colab_type": "text"
      },
      "source": [
        "## Plotting Training and Validation Losses"
      ]
    },
    {
      "cell_type": "code",
      "metadata": {
        "id": "shy0MlY_a-mr",
        "colab_type": "code",
        "colab": {
          "base_uri": "https://localhost:8080/",
          "height": 336
        },
        "outputId": "162936f4-27f6-4bfa-84b6-f7321a49d3f6"
      },
      "source": [
        "title=['FFNN','CNN']\n",
        "model_losses=[m1_loss,m2_loss]\n",
        "fig=plt.figure(1,figsize=(10,5))\n",
        "idx=1\n",
        "for i in model_losses:\n",
        "  ax=fig.add_subplot(1,2,idx)\n",
        "  ax.plot(i['train'],label=\"Training Loss\")\n",
        "  ax.plot(i['valid'],label=\"Validation Loss\")\n",
        "  ax.set_title('MNIST-Digits : '+title[idx-1])\n",
        "  idx+=1\n",
        "  plt.legend();"
      ],
      "execution_count": 19,
      "outputs": [
        {
          "output_type": "display_data",
          "data": {
            "image/png": "[encoded data removed]",
            "text/plain": [
              "<Figure size 720x360 with 2 Axes>"
            ]
          },
          "metadata": {
            "tags": [],
            "needs_background": "light"
          }
        }
      ]
    },
    {
      "cell_type": "markdown",
      "metadata": {
        "id": "hxKM2mHCaZsF",
        "colab_type": "text"
      },
      "source": [
        "## Testing Phase"
      ]
    },
    {
      "cell_type": "code",
      "metadata": {
        "id": "jbvikEyPisP9",
        "colab_type": "code",
        "colab": {}
      },
      "source": [
        "def test(model):\n",
        "    correct=0\n",
        "    test_loss=0\n",
        "    class_correct = list(0. for i in range(10))\n",
        "    class_total = list(0. for i in range(10))\n",
        "\n",
        "    model.eval() # test the model with dropout layers off\n",
        "    for images,labels in test_loader:\n",
        "        if use_cuda and torch.cuda.is_available():\n",
        "            images,labels=images.cuda(),labels.cuda()\n",
        "        output=model(images)\n",
        "        loss=criterion(output,labels)\n",
        "        test_loss+=loss.item()\n",
        "        _,pred=torch.max(output,1)\n",
        "        correct = np.squeeze(pred.eq(labels.data.view_as(pred)))\n",
        "\n",
        "        for i in range(batch_size):\n",
        "            label = labels.data[i]\n",
        "            class_correct[label] += correct[i].item()\n",
        "            class_total[label] += 1\n",
        "\n",
        "\n",
        "    test_loss=test_loss/len(test_loader)\n",
        "    print(f'For {type(model).__name__} :')\n",
        "    print(f\"Test Loss: {test_loss}\")\n",
        "    print(f\"Correctly predicted per class : {class_correct}, Total correctly perdicted : {sum(class_correct)}\")\n",
        "    print(f\"Total Predictions per class : {class_total}, Total predictions to be made : {sum(class_total)}\\n\")\n",
        "    for i in range(10):\n",
        "      if class_total[i] > 0:\n",
        "          print(f\"Test Accuracy of class {i} : {float(100 * class_correct[i] / class_total[i])}% where {int(np.sum(class_correct[i]))} of {int(np.sum(class_total[i]))} were predicted correctly\")\n",
        "      else:\n",
        "          print('Test Accuracy of %5s: N/A (no training examples)' % (classes[i]))\n",
        "\n",
        "    print(f\"\\nOverall Test Accuracy : {float(100. * np.sum(class_correct) / np.sum(class_total))}% where {int(np.sum(class_correct))} of {int(np.sum(class_total))} were predicted correctly\")\n",
        "    # obtain one batch of test images\n",
        "    dataiter = iter(test_loader)\n",
        "    images, labels = dataiter.next()\n",
        "\n",
        "    # get sample outputs\n",
        "    if use_cuda and torch.cuda.is_available():\n",
        "      images,labels=images.cuda(),labels.cuda()\n",
        "    output = model(images)\n",
        "    # convert output probabilities to predicted class\n",
        "    _, preds = torch.max(output, 1)\n",
        "    # prep images for display\n",
        "    images = images.cpu().numpy()\n",
        "\n",
        "    # plot the images in the batch, along with predicted and true labels\n",
        "    fig = plt.figure(figsize=(25, 4))\n",
        "    for idx in np.arange(20):\n",
        "        ax = fig.add_subplot(2, 20/2, idx+1, xticks=[], yticks=[])\n",
        "        ax.imshow(np.squeeze(images[idx]))\n",
        "        ax.set_title(\"{} for ({})\".format(str(preds[idx].item()), str(labels[idx].item())),\n",
        "                    color=(\"blue\" if preds[idx]==labels[idx] else \"red\"))"
      ],
      "execution_count": 20,
      "outputs": []
    },
    {
      "cell_type": "markdown",
      "metadata": {
        "id": "CrIpELozacak",
        "colab_type": "text"
      },
      "source": [
        "## Visualizing a Test batch with results"
      ]
    },
    {
      "cell_type": "markdown",
      "metadata": {
        "id": "0iEve7adafei",
        "colab_type": "text"
      },
      "source": [
        "FFNN"
      ]
    },
    {
      "cell_type": "code",
      "metadata": {
        "id": "26sGXUIu-sbd",
        "colab_type": "code",
        "colab": {
          "base_uri": "https://localhost:8080/",
          "height": 557
        },
        "outputId": "10c964ea-6001-4881-c983-63e1eab6e1e2"
      },
      "source": [
        "test(model_1)"
      ],
      "execution_count": 21,
      "outputs": [
        {
          "output_type": "stream",
          "text": [
            "For FNet :\n",
            "Test Loss: 0.07923624516067411\n",
            "Correctly predicted per class : [972.0, 1123.0, 1005.0, 987.0, 962.0, 863.0, 929.0, 1009.0, 951.0, 980.0], Total correctly perdicted : 9781.0\n",
            "Total Predictions per class : [980.0, 1135.0, 1032.0, 1010.0, 982.0, 892.0, 958.0, 1028.0, 974.0, 1009.0], Total predictions to be made : 10000.0\n",
            "\n",
            "Test Accuracy of class 0 : 99.18367346938776% where 972 of 980 were predicted correctly\n",
            "Test Accuracy of class 1 : 98.94273127753304% where 1123 of 1135 were predicted correctly\n",
            "Test Accuracy of class 2 : 97.38372093023256% where 1005 of 1032 were predicted correctly\n",
            "Test Accuracy of class 3 : 97.72277227722772% where 987 of 1010 were predicted correctly\n",
            "Test Accuracy of class 4 : 97.9633401221996% where 962 of 982 were predicted correctly\n",
            "Test Accuracy of class 5 : 96.74887892376681% where 863 of 892 were predicted correctly\n",
            "Test Accuracy of class 6 : 96.97286012526096% where 929 of 958 were predicted correctly\n",
            "Test Accuracy of class 7 : 98.15175097276264% where 1009 of 1028 were predicted correctly\n",
            "Test Accuracy of class 8 : 97.63860369609856% where 951 of 974 were predicted correctly\n",
            "Test Accuracy of class 9 : 97.12586719524282% where 980 of 1009 were predicted correctly\n",
            "\n",
            "Overall Test Accuracy : 97.81% where 9781 of 10000 were predicted correctly\n"
          ],
          "name": "stdout"
        },
        {
          "output_type": "display_data",
          "data": {
            "image/png": "[encoded data removed]",
            "text/plain": [
              "<Figure size 1800x288 with 20 Axes>"
            ]
          },
          "metadata": {
            "tags": []
          }
        }
      ]
    },
    {
      "cell_type": "markdown",
      "metadata": {
        "id": "OAsdDrz2ah5F",
        "colab_type": "text"
      },
      "source": [
        "### CNN"
      ]
    },
    {
      "cell_type": "code",
      "metadata": {
        "id": "8oXKw8d96CfJ",
        "colab_type": "code",
        "colab": {
          "base_uri": "https://localhost:8080/",
          "height": 557
        },
        "outputId": "0451d9ea-ba3b-4d10-da49-4eabdb7e832e"
      },
      "source": [
        "test(model_2)"
      ],
      "execution_count": 22,
      "outputs": [
        {
          "output_type": "stream",
          "text": [
            "For convNet :\n",
            "Test Loss: 0.026931680879527447\n",
            "Correctly predicted per class : [978.0, 1131.0, 1020.0, 1007.0, 980.0, 879.0, 947.0, 1019.0, 966.0, 984.0], Total correctly perdicted : 9911.0\n",
            "Total Predictions per class : [980.0, 1135.0, 1032.0, 1010.0, 982.0, 892.0, 958.0, 1028.0, 974.0, 1009.0], Total predictions to be made : 10000.0\n",
            "\n",
            "Test Accuracy of class 0 : 99.79591836734694% where 978 of 980 were predicted correctly\n",
            "Test Accuracy of class 1 : 99.64757709251101% where 1131 of 1135 were predicted correctly\n",
            "Test Accuracy of class 2 : 98.83720930232558% where 1020 of 1032 were predicted correctly\n",
            "Test Accuracy of class 3 : 99.70297029702971% where 1007 of 1010 were predicted correctly\n",
            "Test Accuracy of class 4 : 99.79633401221996% where 980 of 982 were predicted correctly\n",
            "Test Accuracy of class 5 : 98.54260089686099% where 879 of 892 were predicted correctly\n",
            "Test Accuracy of class 6 : 98.8517745302714% where 947 of 958 were predicted correctly\n",
            "Test Accuracy of class 7 : 99.12451361867704% where 1019 of 1028 were predicted correctly\n",
            "Test Accuracy of class 8 : 99.17864476386038% where 966 of 974 were predicted correctly\n",
            "Test Accuracy of class 9 : 97.52229930624381% where 984 of 1009 were predicted correctly\n",
            "\n",
            "Overall Test Accuracy : 99.11% where 9911 of 10000 were predicted correctly\n"
          ],
          "name": "stdout"
        },
        {
          "output_type": "display_data",
          "data": {
            "image/png": "[encoded data removed]",
            "text/plain": [
              "<Figure size 1800x288 with 20 Axes>"
            ]
          },
          "metadata": {
            "tags": []
          }
        }
      ]
    },
    {
      "cell_type": "code",
      "metadata": {
        "id": "9hclOo1JfUeY",
        "colab_type": "code",
        "colab": {}
      },
      "source": [
        ""
      ],
      "execution_count": 22,
      "outputs": []
    }
  ]
}